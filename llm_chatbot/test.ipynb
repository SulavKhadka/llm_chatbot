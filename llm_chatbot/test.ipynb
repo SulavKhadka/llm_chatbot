{
 "cells": [
  {
   "cell_type": "code",
   "execution_count": 1,
   "metadata": {},
   "outputs": [],
   "source": [
    "from langchain.tools import tool"
   ]
  },
  {
   "cell_type": "code",
   "execution_count": 5,
   "metadata": {},
   "outputs": [],
   "source": [
    "def add_2_nums(x: int, y: int) -> int:\n",
    "    \"\"\"\n",
    "    Add two numbers and return the sum.\n",
    "\n",
    "    This tool performs simple addition of two integers. It's useful for basic arithmetic operations \n",
    "    when you need to combine two numerical values. While simple, it ensures accurate addition without \n",
    "    the risk of floating-point errors that can occur with some manual calculations.\n",
    "\n",
    "    Args:\n",
    "        x (int): The first integer to be added. This can be any positive or negative whole number.\n",
    "        y (int): The second integer to be added. This can be any positive or negative whole number.\n",
    "\n",
    "    Returns:\n",
    "        int: The sum of x and y. This will always be an integer.\n",
    "\n",
    "    Note:\n",
    "        - This function only works with integers. If you need to add floating-point numbers, you'll need to use a different tool.\n",
    "        - The function does not have a limit on the size of integers it can handle beyond Python's built-in integer limits.\n",
    "        - If the result of the addition exceeds the maximum integer size that can be represented in Python, an OverflowError may occur.\n",
    "        - This tool does not perform any rounding or truncation; it returns the exact sum of the two input integers.\n",
    "    \"\"\"\n",
    "\n",
    "    return x+y\n"
   ]
  },
  {
   "cell_type": "code",
   "execution_count": 6,
   "metadata": {},
   "outputs": [
    {
     "data": {
      "text/plain": [
       "StructuredTool(name='add_2_nums', description=\"Add two numbers and return the sum.\\n\\nThis tool performs simple addition of two integers. It's useful for basic arithmetic operations \\nwhen you need to combine two numerical values. While simple, it ensures accurate addition without \\nthe risk of floating-point errors that can occur with some manual calculations.\\n\\nArgs:\\n    x (int): The first integer to be added. This can be any positive or negative whole number.\\n    y (int): The second integer to be added. This can be any positive or negative whole number.\\n\\nReturns:\\n    int: The sum of x and y. This will always be an integer.\\n\\nNote:\\n    - This function only works with integers. If you need to add floating-point numbers, you'll need to use a different tool.\\n    - The function does not have a limit on the size of integers it can handle beyond Python's built-in integer limits.\\n    - If the result of the addition exceeds the maximum integer size that can be represented in Python, an OverflowError may occur.\\n    - This tool does not perform any rounding or truncation; it returns the exact sum of the two input integers.\", args_schema=<class 'pydantic.v1.main.add_2_numsSchema'>, func=<function add_2_nums at 0x73b290b0eca0>)"
      ]
     },
     "execution_count": 6,
     "metadata": {},
     "output_type": "execute_result"
    }
   ],
   "source": [
    "tool(add_2_nums)"
   ]
  },
  {
   "cell_type": "code",
   "execution_count": 1,
   "metadata": {},
   "outputs": [],
   "source": [
    "from tools.python_interpreter import UVPythonInterpreter"
   ]
  },
  {
   "cell_type": "code",
   "execution_count": 2,
   "metadata": {},
   "outputs": [
    {
     "name": "stderr",
     "output_type": "stream",
     "text": [
      "INFO:tools.python_interpreter:UV version: uv 0.4.4\n",
      "INFO:tools.python_interpreter:Created session directory: /home/bobby/Repos/llm_chatbot/llm_chatbot/llm_sandbox/0fed151a-37d0-44d7-aa4e-1ae45ee16a40\n",
      "INFO:tools.python_interpreter:\n",
      "INFO:tools.python_interpreter:Using Python 3.11.9 interpreter at: \u001b[36m/usr/bin/python3.11\u001b[39m\n",
      "Creating virtualenv at: \u001b[36m.venv\u001b[39m\n",
      "Activate with: \u001b[32msource .venv/bin/activate\u001b[39m\n",
      "\n",
      "14.03s - pydevd: Sending message related to process being replaced timed-out after 5 seconds\n",
      "INFO:tools.python_interpreter:Session 0fed151a-37d0-44d7-aa4e-1ae45ee16a40 created successfully\n"
     ]
    }
   ],
   "source": [
    "interpreter = UVPythonInterpreter()\n",
    "\n",
    "# Start a new chat session\n",
    "result = interpreter.create_session()"
   ]
  },
  {
   "cell_type": "code",
   "execution_count": 3,
   "metadata": {},
   "outputs": [
    {
     "data": {
      "text/plain": [
       "{'status': 'success',\n",
       " 'session_id': '5fdffdeb-c0a0-4872-a9e6-6ffce0ab9f73',\n",
       " 'message': 'Session created successfully'}"
      ]
     },
     "execution_count": 3,
     "metadata": {},
     "output_type": "execute_result"
    }
   ],
   "source": [
    "result"
   ]
  },
  {
   "cell_type": "code",
   "execution_count": 4,
   "metadata": {},
   "outputs": [
    {
     "name": "stderr",
     "output_type": "stream",
     "text": [
      "INFO:tools.python_interpreter:Running command in session 5fdffdeb-c0a0-4872-a9e6-6ffce0ab9f73: uv pip install numpy\n",
      "INFO:tools.python_interpreter:Command output: \n"
     ]
    },
    {
     "data": {
      "text/plain": [
       "{'status': 'success', 'output': ''}"
      ]
     },
     "execution_count": 4,
     "metadata": {},
     "output_type": "execute_result"
    }
   ],
   "source": [
    "session_id = result['session_id']\n",
    "# Install a package in the session\n",
    "interpreter.install_package(session_id, \"numpy\")"
   ]
  },
  {
   "cell_type": "code",
   "execution_count": 5,
   "metadata": {},
   "outputs": [
    {
     "name": "stderr",
     "output_type": "stream",
     "text": [
      "INFO:tools.python_interpreter:Wrote code to /home/bobby/Repos/llm_chatbot/llm_chatbot/llm_sandbox/4dc4a791-3998-4bb3-8dac-531de344a3dd/temp_script.py\n",
      "INFO:tools.python_interpreter:Running command in session 4dc4a791-3998-4bb3-8dac-531de344a3dd: /home/bobby/Repos/llm_chatbot/llm_chatbot/llm_sandbox/4dc4a791-3998-4bb3-8dac-531de344a3dd/.venv/bin/python /home/bobby/Repos/llm_chatbot/llm_chatbot/llm_sandbox/4dc4a791-3998-4bb3-8dac-531de344a3dd/temp_script.py\n",
      "INFO:tools.python_interpreter:Command output: \n",
      "INFO:tools.python_interpreter:Removed temporary script: /home/bobby/Repos/llm_chatbot/llm_chatbot/llm_sandbox/4dc4a791-3998-4bb3-8dac-531de344a3dd/temp_script.py\n"
     ]
    },
    {
     "name": "stdout",
     "output_type": "stream",
     "text": [
      "\n"
     ]
    }
   ],
   "source": [
    "# Run some code in the session\n",
    "out = interpreter.run_python_code(session_id, \"\"\"\n",
    "import numpy as np\n",
    "print(np.array([1, 2, 3]))\n",
    "\"\"\")\n",
    "\n",
    "print(out['output'])"
   ]
  },
  {
   "cell_type": "code",
   "execution_count": null,
   "metadata": {},
   "outputs": [],
   "source": [
    "# List installed packages in the session\n",
    "interpreter.list_installed_packages(session_id)\n",
    "\n",
    "# When the chat is over, close the session\n",
    "interpreter.close_session(session_id)\n",
    "\n",
    "# If you need to run an isolated command outside of any session\n",
    "output, error = interpreter.run_isolated_command(\"python --version\")\n",
    "print(output)"
   ]
  },
  {
   "cell_type": "code",
   "execution_count": 1,
   "metadata": {},
   "outputs": [],
   "source": [
    "import nest_asyncio\n",
    "nest_asyncio.apply()"
   ]
  },
  {
   "cell_type": "code",
   "execution_count": 9,
   "metadata": {},
   "outputs": [
    {
     "name": "stderr",
     "output_type": "stream",
     "text": [
      "586.37s - pydevd: Sending message related to process being replaced timed-out after 5 seconds\n"
     ]
    }
   ],
   "source": [
    "import pexpect\n",
    "session_dir = \"/home/bobby/Repos/llm_chatbot/llm_chatbot/\"\n",
    "child = pexpect.spawn('/usr/bin/bash', cwd=session_dir)"
   ]
  },
  {
   "cell_type": "code",
   "execution_count": 23,
   "metadata": {},
   "outputs": [],
   "source": [
    "import subprocess\n",
    "import time\n",
    "import select\n",
    "\n",
    "class TerminalManager:\n",
    "    def __init__(self):\n",
    "        # Start the terminal process\n",
    "        self.process = subprocess.Popen(\n",
    "            ['bash'],  # Replace with ['sh'] for a POSIX shell, ['cmd'] for Windows command prompt\n",
    "            stdin=subprocess.PIPE,\n",
    "            stdout=subprocess.PIPE,\n",
    "            stderr=subprocess.PIPE,\n",
    "            text=True,  # Use text mode for handling strings\n",
    "            bufsize=1,  # Line-buffered\n",
    "            universal_newlines=True  # Handle text mode (Python 3.7+)\n",
    "        )\n",
    "\n",
    "    def run_command(self, command, timeout=30):\n",
    "        try:\n",
    "            # Send a command to the terminal\n",
    "            self.process.stdin.write(command + '\\n')\n",
    "            self.process.stdin.flush()\n",
    "\n",
    "            output_lines = []\n",
    "            error_lines = []\n",
    "\n",
    "            # Set up a timeout for reading output\n",
    "            start_time = time.time()\n",
    "            while True:\n",
    "                if time.time() - start_time > timeout:\n",
    "                    self.process.kill()  # Terminate process if timeout is reached\n",
    "                    raise TimeoutError(\"Command execution timed out\")\n",
    "\n",
    "                # Check if the process has terminated\n",
    "                if self.process.poll() is not None:\n",
    "                    break\n",
    "\n",
    "                # Use select to handle non-blocking reads\n",
    "                reads = [self.process.stdout, self.process.stderr]\n",
    "                readable, _, _ = select.select(reads, [], [], 0.1)\n",
    "\n",
    "                for fd in readable:\n",
    "                    if fd == self.process.stdout:\n",
    "                        output = self.process.stdout.readline()\n",
    "                        if output:\n",
    "                            output_lines.append(output.strip())\n",
    "                    elif fd == self.process.stderr:\n",
    "                        error = self.process.stderr.readline()\n",
    "                        if error:\n",
    "                            error_lines.append(error.strip())\n",
    "\n",
    "            # Ensure all output is captured after process completion\n",
    "            self.process.wait()\n",
    "            return '\\n'.join(output_lines), '\\n'.join(error_lines)\n",
    "        \n",
    "        except Exception as e:\n",
    "            # Handle exceptions and return error information\n",
    "            return '', str(e)\n",
    "\n",
    "    def close(self):\n",
    "        # Close the terminal process\n",
    "        self.process.stdin.close()\n",
    "        self.process.terminate()\n",
    "        self.process.wait()\n",
    "\n",
    "import time  # For timeout functionality\n",
    "import select  # For non-blocking I/O\n"
   ]
  },
  {
   "cell_type": "code",
   "execution_count": 24,
   "metadata": {},
   "outputs": [
    {
     "name": "stdout",
     "output_type": "stream",
     "text": [
      "Output: \n",
      "Error: Command execution timed out\n"
     ]
    }
   ],
   "source": [
    "manager = TerminalManager()\n",
    "\n",
    "try:\n",
    "    # Run some commands\n",
    "    output, error = manager.run_command('apt update')\n",
    "    print(f\"Output: {output}\")\n",
    "    if error:\n",
    "        print(f\"Error: {error}\")\n",
    "\n",
    "finally:\n",
    "    # Ensure the terminal is closed properly\n",
    "    manager.close()"
   ]
  },
  {
   "cell_type": "code",
   "execution_count": null,
   "metadata": {},
   "outputs": [],
   "source": []
  }
 ],
 "metadata": {
  "kernelspec": {
   "display_name": ".venv",
   "language": "python",
   "name": "python3"
  },
  "language_info": {
   "codemirror_mode": {
    "name": "ipython",
    "version": 3
   },
   "file_extension": ".py",
   "mimetype": "text/x-python",
   "name": "python",
   "nbconvert_exporter": "python",
   "pygments_lexer": "ipython3",
   "version": "3.12.3"
  }
 },
 "nbformat": 4,
 "nbformat_minor": 2
}
