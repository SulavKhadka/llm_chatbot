{
 "cells": [
  {
   "cell_type": "code",
   "execution_count": 2,
   "metadata": {},
   "outputs": [],
   "source": [
    "from langchain_community.tools.pubmed.tool import PubmedQueryRun"
   ]
  },
  {
   "cell_type": "code",
   "execution_count": 21,
   "metadata": {},
   "outputs": [],
   "source": [
    "pub = PubmedQueryRun()\n",
    "pub.api_wrapper.doc_content_chars_max = 10_000"
   ]
  },
  {
   "cell_type": "code",
   "execution_count": 22,
   "metadata": {},
   "outputs": [],
   "source": [
    "result = pub.invoke(\"What causes alzhimers?\")"
   ]
  },
  {
   "cell_type": "code",
   "execution_count": 23,
   "metadata": {},
   "outputs": [
    {
     "name": "stdout",
     "output_type": "stream",
     "text": [
      "Published: 2023-08-04\n",
      "Title: A meta-analysis of differentially expressed circulatory micro-RNAs in chronic traumatic encephalopathy and other tauopathies: A significant role of miR-181c-5p.\n",
      "Copyright Information: © 2023. The Author(s), under exclusive licence to Royal Academy of Medicine in Ireland.\n",
      "Summary::\n",
      "BACKGROUND: Micro-RNA (miRs) targeting kinases and phosphatases regulate the hyper-phosphorylation of tau protein, which is a characteristic feature of Chronic Traumatic Encephalopathy (CTE).\n",
      "PRIMARY OBJECTIVE: Identification of lead dysregulated miR expressed in CTE, and other similar tauopathies.\n",
      "METHODS: A search strategy was devised using the Preferred Reporting Items for Systematic Reviews and Meta-Analyses (PRISMA) guidelines to mine into multiple indexing databases such as Web of Science, Google Scholar, and PubMed spanning from 2005 to June 2022. Seven articles were screened out of 34,221 publications based on inclusion criteria and were categorized into two groups i.e., (1) CTE and its risk factors and (2) Age-related neurodegenerative disorders.\n",
      "RESULTS: Statistical analysis [RevMan 5.4.1] results showed that the overall risk ratio (RR) of the first group is significant (RR = 0.62, 95% CI = [0.38, 1.00], z = 1.95, p = 0.05) whereas, the second group favours the control population (RR = 1.64, 95% CI = [0.85, 3.16], z = 1.14, p = 0.14).\n",
      "CONCLUSION: We observed that among all other dysregulated miRs, miR-181c-5p is significantly overexpressed in Alzhimers disease (AD) and CTE. Further, we found that miR-210-3p is also upregulated notably in all groups. In sum, we conclude that these miRs can be considered as potential target and biomarker in the diagnosis and treatment of various tauopathies.\n",
      "\n",
      "Published: --\n",
      "Title: [Ageing and Alzheimer disease - system dynamics model prediction].\n",
      "Copyright Information: \n",
      "Summary::\n",
      "The aim of the paper is to describe asystem dynamics model applied on aprediction of the number of patients with Alzheimers disease in the EU in the future and related financial impacts. Dementia resulting from Alzheimers disease is the most widely spread type of dementia and is highly connected with the age of the person - the patient. Most people are diagnosed with Alzheimers disease when they are older than 64. The ageing of population will be an ongoing problem in the next few decades due to alow birth rate and increasing life expectancy. This is areason to focus on prediction models of Alzheimers disease and its impact on economy. The paper presents adynamic modelling approach of system dynamics. The created model of the EU population and patients with AD is expanded by afinancial submodel at the end. This submodel estimates the cost on patients from three available cost studies.Key words: systém dynamic Alzhimers disease population ageing.\n"
     ]
    }
   ],
   "source": [
    "print(result)"
   ]
  },
  {
   "cell_type": "code",
   "execution_count": 25,
   "metadata": {},
   "outputs": [],
   "source": [
    "from langchain_community.utilities import ArxivAPIWrapper\n",
    "arx = ArxivAPIWrapper()"
   ]
  },
  {
   "cell_type": "code",
   "execution_count": 28,
   "metadata": {},
   "outputs": [],
   "source": [
    "x = arx.run(\"what causes lung cancer?\")"
   ]
  },
  {
   "cell_type": "code",
   "execution_count": 29,
   "metadata": {},
   "outputs": [
    {
     "name": "stdout",
     "output_type": "stream",
     "text": [
      "Published: 2023-04-28\n",
      "Title: An automated end-to-end deep learning-based framework for lung cancer diagnosis by detecting and classifying the lung nodules\n",
      "Authors: Samiul Based Shuvo\n",
      "Summary: Lung cancer is a leading cause of cancer-related deaths worldwide, and early\n",
      "detection is crucial for improving patient outcomes. Nevertheless, early\n",
      "diagnosis of cancer is a major challenge, particularly in low-resource settings\n",
      "where access to medical resources and trained radiologists is limited. The\n",
      "objective of this study is to propose an automated end-to-end deep\n",
      "learning-based framework for the early detection and classification of lung\n",
      "nodules, specifically for low-resource settings. The proposed framework\n",
      "consists of three stages: lung segmentation using a modified 3D U-Net named 3D\n",
      "Res-U-Net, nodule detection using YOLO-v5, and classification with a Vision\n",
      "Transformer-based architecture. We evaluated the proposed framework on a\n",
      "publicly available dataset, LUNA16. The proposed framework's performance was\n",
      "measured using the respective domain's evaluation matrices. The proposed\n",
      "framework achieved a 98.82% lung segmentation dice score while detecting the\n",
      "lung nodule with 0.76 mAP@50 from the segmented lung, at a low false-positive\n",
      "rate. The performance of both networks of the proposed framework was compared\n",
      "with other studies and found to outperform them regarding segmentation and\n",
      "detection accuracy. Additionally, our proposed Vision transformer network\n",
      "obtained an accuracy of 93.57%, which is 1.21 higher than the state-of-the-art\n",
      "networks. Our proposed end-to-end deep learning-based framework can effectively\n",
      "segment lungs, and detect and classify lung nodules, specifically in\n",
      "low-resource settings with limited access to radiologists. The proposed\n",
      "framework outperforms existing studies regarding all the respective evaluation\n",
      "metrics. The proposed framework can potentially improve the accuracy and\n",
      "efficiency of lung cancer screening in low-resource settings, ultimately\n",
      "leading to better patient outcomes.\n",
      "\n",
      "Published: 2019-09-27\n",
      "Title: Function Follows Form: Regression from Complete Thoracic Computed Tomography Scans\n",
      "Authors: Max Argus, Cornelia Schaefer-Prokop, David A. Lynch, Bram van Ginneken\n",
      "Summary: Chronic Obstructive Pulmonary Disease (COPD) is a leading cause of morbidity\n",
      "and mortality. While COPD diagnosis is based on lung function tests, early\n",
      "stages and progression of different aspects of the disease can be visible and\n",
      "quantitatively assessed on computed tomography (CT) scans. Many studies have\n",
      "been published that quantify imaging biomarkers related to COPD. In this paper\n",
      "we present a convolutional neural network that directly computes visual\n",
      "emphysema scores and predicts the outcome of lung function tests for 195 CT\n",
      "scans from the COPDGene study. Contrary to previous work, the proposed method\n",
      "does not encode any specific prior knowledge about what to quantify, but it is\n",
      "trained end-to-end with a set of 1424 CT scans for which the output parameters\n",
      "were available. The network provided state-of-the-art results for these tasks:\n",
      "Visual emphysema scores are comparable to those assessed by trained human\n",
      "observers; COPD diagnosis from estimated lung function reaches an area under\n",
      "the ROC curve of 0.94, outperforming prior art. The method is easily\n",
      "generalizable to other situations where information from whole scans needs to\n",
      "be summarized in single quantities.\n",
      "\n",
      "Published: 2020-05-03\n",
      "Title: Prediction of repurposed drugs for treating lung injury in COVID-19\n",
      "Authors: Bing He, Lana Garmire\n",
      "Summary: Coronavirus disease (COVID-19) is an infectious disease discovered in 2019\n",
      "and currently in outbreak across the world. Lung injury with severe respiratory\n",
      "failure is the leading cause of death in COVID-19, brought by severe acute\n",
      "respiratory syndrome coronavirus 2 (SARS-CoV-2). However, there still lacks\n",
      "efficient treatment for COVID-19 induced lung injury and acute respiratory\n",
      "failure. Inhibition of Angiotensin-converting enzyme 2 (ACE2) c\n"
     ]
    }
   ],
   "source": [
    "print(x)"
   ]
  },
  {
   "cell_type": "code",
   "execution_count": 41,
   "metadata": {},
   "outputs": [],
   "source": [
    "from langchain_community.tools.wikidata.tool import WikidataAPIWrapper, WikidataQueryRun\n",
    "wikidata = WikidataQueryRun(api_wrapper=WikidataAPIWrapper())\n",
    "out = wikidata.run(\"Einstein\")"
   ]
  },
  {
   "cell_type": "code",
   "execution_count": 42,
   "metadata": {},
   "outputs": [
    {
     "name": "stdout",
     "output_type": "stream",
     "text": [
      "Result Q937:\n",
      "Label: Albert Einstein\n",
      "Description: German-born theoretical physicist (1879–1955)\n",
      "Aliases: Einstein, A. Einstein\n",
      "\n",
      "Result Q46202:\n",
      "Label: Bose–Einstein condensate\n",
      "Description: state of matter of a dilute gas of bosons cooled to temperatures very near absolute zero\n",
      "Aliases: BCE, Bose condensation, BEC, Bose-Einstein condensation, Bose-Einstein Condensate\n"
     ]
    },
    {
     "data": {
      "text/plain": [
       "'\\nResult Q7251:\\nLabel: Alan Turing\\nDescription: English computer scientist (1912–1954)\\nAliases: Alan M. Turing, Alan Mathieson Turing, Turing, Alan Mathison Turing\\n\\nResult Q28846012:\\nLabel: Alan Turing\\nDescription: fictional analogon of Alan Turing (1912-1954)\\nAliases: Alan Mathison Turing\\n\\nTODO: Above is what the output looks like. We now neeed to be able to query wikidata by result id it gives back.\\n'"
      ]
     },
     "execution_count": 42,
     "metadata": {},
     "output_type": "execute_result"
    }
   ],
   "source": [
    "print(out)\n",
    "\n",
    "'''\n",
    "Result Q7251:\n",
    "Label: Alan Turing\n",
    "Description: English computer scientist (1912–1954)\n",
    "Aliases: Alan M. Turing, Alan Mathieson Turing, Turing, Alan Mathison Turing\n",
    "\n",
    "Result Q28846012:\n",
    "Label: Alan Turing\n",
    "Description: fictional analogon of Alan Turing (1912-1954)\n",
    "Aliases: Alan Mathison Turing\n",
    "\n",
    "TODO: Above is what the output looks like. We now neeed to be able to query wikidata by result id it gives back.\n",
    "'''"
   ]
  },
  {
   "cell_type": "code",
   "execution_count": null,
   "metadata": {},
   "outputs": [],
   "source": []
  }
 ],
 "metadata": {
  "kernelspec": {
   "display_name": ".venv",
   "language": "python",
   "name": "python3"
  },
  "language_info": {
   "codemirror_mode": {
    "name": "ipython",
    "version": 3
   },
   "file_extension": ".py",
   "mimetype": "text/x-python",
   "name": "python",
   "nbconvert_exporter": "python",
   "pygments_lexer": "ipython3",
   "version": "3.12.5"
  }
 },
 "nbformat": 4,
 "nbformat_minor": 2
}
